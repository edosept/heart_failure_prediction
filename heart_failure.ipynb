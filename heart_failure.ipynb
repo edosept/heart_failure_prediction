{
 "cells": [
  {
   "cell_type": "code",
   "execution_count": 1,
   "metadata": {
    "ExecuteTime": {
     "end_time": "2020-08-10T12:55:25.151156Z",
     "start_time": "2020-08-10T12:55:23.741487Z"
    },
    "colab": {
     "base_uri": "https://localhost:8080/",
     "height": 72
    },
    "colab_type": "code",
    "executionInfo": {
     "elapsed": 7187,
     "status": "ok",
     "timestamp": 1594305149891,
     "user": {
      "displayName": "Edo Septian",
      "photoUrl": "https://lh3.googleusercontent.com/a-/AOh14Gh46t-jaOjIXe6NPakv6dZYr0_ESnDxoThmqkSWGQ=s64",
      "userId": "01836774562051920989"
     },
     "user_tz": -420
    },
    "id": "8rYXvIerIYkP",
    "outputId": "d4755cc0-2ad8-4973-8a99-24608fef6b77"
   },
   "outputs": [],
   "source": [
    "import matplotlib.pyplot as plt\n",
    "import numpy as np\n",
    "import pandas as pd\n",
    "import scipy.stats as st\n",
    "import seaborn as sns"
   ]
  },
  {
   "cell_type": "code",
   "execution_count": 2,
   "metadata": {
    "ExecuteTime": {
     "end_time": "2020-08-10T12:55:25.436351Z",
     "start_time": "2020-08-10T12:55:25.153849Z"
    },
    "colab": {},
    "colab_type": "code",
    "id": "Q-ipLAKziyMX"
   },
   "outputs": [],
   "source": [
    "from sklearn.model_selection import train_test_split\n",
    "from sklearn.pipeline import Pipeline\n",
    "from sklearn.compose import ColumnTransformer\n",
    "\n",
    "from jcopml.pipeline import num_pipe, cat_pipe\n",
    "from jcopml.utils import save_model, load_model\n",
    "from jcopml.plot import plot_missing_value\n",
    "from jcopml.feature_importance import mean_score_decrease"
   ]
  },
  {
   "cell_type": "markdown",
   "metadata": {
    "colab_type": "text",
    "id": "zdi5ixK4IYkT"
   },
   "source": [
    "# Import Data"
   ]
  },
  {
   "cell_type": "code",
   "execution_count": 3,
   "metadata": {
    "ExecuteTime": {
     "end_time": "2020-08-10T12:55:25.467052Z",
     "start_time": "2020-08-10T12:55:25.441081Z"
    },
    "colab": {
     "base_uri": "https://localhost:8080/",
     "height": 222
    },
    "colab_type": "code",
    "executionInfo": {
     "elapsed": 7745,
     "status": "ok",
     "timestamp": 1594305150477,
     "user": {
      "displayName": "Edo Septian",
      "photoUrl": "https://lh3.googleusercontent.com/a-/AOh14Gh46t-jaOjIXe6NPakv6dZYr0_ESnDxoThmqkSWGQ=s64",
      "userId": "01836774562051920989"
     },
     "user_tz": -420
    },
    "id": "EZtE3XoYIYkU",
    "outputId": "74f74b58-707b-4458-c27a-b32dbee4044e"
   },
   "outputs": [
    {
     "data": {
      "text/html": [
       "<div>\n",
       "<style scoped>\n",
       "    .dataframe tbody tr th:only-of-type {\n",
       "        vertical-align: middle;\n",
       "    }\n",
       "\n",
       "    .dataframe tbody tr th {\n",
       "        vertical-align: top;\n",
       "    }\n",
       "\n",
       "    .dataframe thead th {\n",
       "        text-align: right;\n",
       "    }\n",
       "</style>\n",
       "<table border=\"1\" class=\"dataframe\">\n",
       "  <thead>\n",
       "    <tr style=\"text-align: right;\">\n",
       "      <th></th>\n",
       "      <th>age</th>\n",
       "      <th>anaemia</th>\n",
       "      <th>creatinine_phosphokinase</th>\n",
       "      <th>diabetes</th>\n",
       "      <th>ejection_fraction</th>\n",
       "      <th>high_blood_pressure</th>\n",
       "      <th>platelets</th>\n",
       "      <th>serum_creatinine</th>\n",
       "      <th>serum_sodium</th>\n",
       "      <th>sex</th>\n",
       "      <th>smoking</th>\n",
       "      <th>time</th>\n",
       "      <th>DEATH_EVENT</th>\n",
       "    </tr>\n",
       "  </thead>\n",
       "  <tbody>\n",
       "    <tr>\n",
       "      <th>0</th>\n",
       "      <td>75.0</td>\n",
       "      <td>0</td>\n",
       "      <td>582</td>\n",
       "      <td>0</td>\n",
       "      <td>20</td>\n",
       "      <td>1</td>\n",
       "      <td>265000.00</td>\n",
       "      <td>1.9</td>\n",
       "      <td>130</td>\n",
       "      <td>1</td>\n",
       "      <td>0</td>\n",
       "      <td>4</td>\n",
       "      <td>1</td>\n",
       "    </tr>\n",
       "    <tr>\n",
       "      <th>1</th>\n",
       "      <td>55.0</td>\n",
       "      <td>0</td>\n",
       "      <td>7861</td>\n",
       "      <td>0</td>\n",
       "      <td>38</td>\n",
       "      <td>0</td>\n",
       "      <td>263358.03</td>\n",
       "      <td>1.1</td>\n",
       "      <td>136</td>\n",
       "      <td>1</td>\n",
       "      <td>0</td>\n",
       "      <td>6</td>\n",
       "      <td>1</td>\n",
       "    </tr>\n",
       "    <tr>\n",
       "      <th>2</th>\n",
       "      <td>65.0</td>\n",
       "      <td>0</td>\n",
       "      <td>146</td>\n",
       "      <td>0</td>\n",
       "      <td>20</td>\n",
       "      <td>0</td>\n",
       "      <td>162000.00</td>\n",
       "      <td>1.3</td>\n",
       "      <td>129</td>\n",
       "      <td>1</td>\n",
       "      <td>1</td>\n",
       "      <td>7</td>\n",
       "      <td>1</td>\n",
       "    </tr>\n",
       "    <tr>\n",
       "      <th>3</th>\n",
       "      <td>50.0</td>\n",
       "      <td>1</td>\n",
       "      <td>111</td>\n",
       "      <td>0</td>\n",
       "      <td>20</td>\n",
       "      <td>0</td>\n",
       "      <td>210000.00</td>\n",
       "      <td>1.9</td>\n",
       "      <td>137</td>\n",
       "      <td>1</td>\n",
       "      <td>0</td>\n",
       "      <td>7</td>\n",
       "      <td>1</td>\n",
       "    </tr>\n",
       "    <tr>\n",
       "      <th>4</th>\n",
       "      <td>65.0</td>\n",
       "      <td>1</td>\n",
       "      <td>160</td>\n",
       "      <td>1</td>\n",
       "      <td>20</td>\n",
       "      <td>0</td>\n",
       "      <td>327000.00</td>\n",
       "      <td>2.7</td>\n",
       "      <td>116</td>\n",
       "      <td>0</td>\n",
       "      <td>0</td>\n",
       "      <td>8</td>\n",
       "      <td>1</td>\n",
       "    </tr>\n",
       "  </tbody>\n",
       "</table>\n",
       "</div>"
      ],
      "text/plain": [
       "    age  anaemia  creatinine_phosphokinase  diabetes  ejection_fraction  \\\n",
       "0  75.0        0                       582         0                 20   \n",
       "1  55.0        0                      7861         0                 38   \n",
       "2  65.0        0                       146         0                 20   \n",
       "3  50.0        1                       111         0                 20   \n",
       "4  65.0        1                       160         1                 20   \n",
       "\n",
       "   high_blood_pressure  platelets  serum_creatinine  serum_sodium  sex  \\\n",
       "0                    1  265000.00               1.9           130    1   \n",
       "1                    0  263358.03               1.1           136    1   \n",
       "2                    0  162000.00               1.3           129    1   \n",
       "3                    0  210000.00               1.9           137    1   \n",
       "4                    0  327000.00               2.7           116    0   \n",
       "\n",
       "   smoking  time  DEATH_EVENT  \n",
       "0        0     4            1  \n",
       "1        0     6            1  \n",
       "2        1     7            1  \n",
       "3        0     7            1  \n",
       "4        0     8            1  "
      ]
     },
     "execution_count": 3,
     "metadata": {},
     "output_type": "execute_result"
    }
   ],
   "source": [
    "df = pd.read_csv(\"data/heart_failure_clinical_records_dataset.csv\")\n",
    "df.head()"
   ]
  },
  {
   "cell_type": "markdown",
   "metadata": {
    "colab_type": "text",
    "id": "l5rqwTWhIYkX"
   },
   "source": [
    "## Eksplorasi Dataset"
   ]
  },
  {
   "cell_type": "code",
   "execution_count": 4,
   "metadata": {
    "ExecuteTime": {
     "end_time": "2020-08-10T12:55:26.644331Z",
     "start_time": "2020-08-10T12:55:25.472000Z"
    },
    "colab": {
     "base_uri": "https://localhost:8080/",
     "height": 836
    },
    "colab_type": "code",
    "executionInfo": {
     "elapsed": 9151,
     "status": "ok",
     "timestamp": 1594305151900,
     "user": {
      "displayName": "Edo Septian",
      "photoUrl": "https://lh3.googleusercontent.com/a-/AOh14Gh46t-jaOjIXe6NPakv6dZYr0_ESnDxoThmqkSWGQ=s64",
      "userId": "01836774562051920989"
     },
     "user_tz": -420
    },
    "id": "ylowp7oTeZD7",
    "outputId": "d40ce3c9-7f19-4da3-a81a-ca5e7b982e6e"
   },
   "outputs": [
    {
     "data": {
      "image/png": "[encoded data removed]",
      "text/plain": [
       "<Figure size 1152x864 with 2 Axes>"
      ]
     },
     "metadata": {
      "needs_background": "light"
     },
     "output_type": "display_data"
    }
   ],
   "source": [
    "plt.figure(figsize=(16,12))\n",
    "plt.title('Correlation Heatmap of Heart Failure')\n",
    "a = sns.heatmap(df.corr(), square=True, annot=True, fmt='.2f', vmin=-1, vmax=1, linecolor='white', cmap= 'coolwarm')\n",
    "a.set_xticklabels(a.get_xticklabels(), rotation=90)\n",
    "a.set_yticklabels(a.get_yticklabels(), rotation=30)           \n",
    "plt.show()"
   ]
  },
  {
   "cell_type": "markdown",
   "metadata": {
    "colab_type": "text",
    "id": "mWU0M2cCZwuv"
   },
   "source": [
    "bisa kita lihat disini age dan serum creatinine cukup berkorelasi kuat dengan target, maka mungkin keduanya merupakan fitur yang cukup penting dan fitur time berkorelasi lemah dengan target, ini bisa jadi pertimbangan untuk kita drop."
   ]
  },
  {
   "cell_type": "markdown",
   "metadata": {
    "colab_type": "text",
    "id": "LOQ7qLj5IYkc"
   },
   "source": [
    "Gambar histogram dari `age`"
   ]
  },
  {
   "cell_type": "code",
   "execution_count": 5,
   "metadata": {
    "ExecuteTime": {
     "end_time": "2020-08-10T12:55:26.890672Z",
     "start_time": "2020-08-10T12:55:26.647324Z"
    },
    "colab": {
     "base_uri": "https://localhost:8080/",
     "height": 391
    },
    "colab_type": "code",
    "executionInfo": {
     "elapsed": 9109,
     "status": "ok",
     "timestamp": 1594305151902,
     "user": {
      "displayName": "Edo Septian",
      "photoUrl": "https://lh3.googleusercontent.com/a-/AOh14Gh46t-jaOjIXe6NPakv6dZYr0_ESnDxoThmqkSWGQ=s64",
      "userId": "01836774562051920989"
     },
     "user_tz": -420
    },
    "id": "_5bA_ObqiW-N",
    "outputId": "f4af138a-cccb-4ce2-95ae-5e648637bfc8"
   },
   "outputs": [
    {
     "data": {
      "image/png": "[encoded data removed]",
      "text/plain": [
       "<Figure size 720x432 with 1 Axes>"
      ]
     },
     "metadata": {
      "needs_background": "light"
     },
     "output_type": "display_data"
    }
   ],
   "source": [
    "f, ax = plt.subplots(figsize=(10,6))\n",
    "x = df[\"age\"]\n",
    "ax = sns.distplot(x, bins=10)\n",
    "plt.show()"
   ]
  },
  {
   "cell_type": "markdown",
   "metadata": {
    "colab_type": "text",
    "id": "uz5mPx2bnPJV"
   },
   "source": [
    "Metrik yang kita gunakan untuk uji normalitas ini adalah uji Jarque Bera. Untuk sampel yang lebih besar dari 200 selain menggunakan Jarque Bera, kita juga bisa mempunyai alternatif lain seperti uji Skewness Kurtosis. Tetapi disini saya menggunakan Uji Jarque Bera karena cocok untuk mengukur apakah skewness sesuai dengan distribusi normal."
   ]
  },
  {
   "cell_type": "code",
   "execution_count": 6,
   "metadata": {
    "ExecuteTime": {
     "end_time": "2020-08-10T12:55:26.926577Z",
     "start_time": "2020-08-10T12:55:26.894663Z"
    },
    "colab": {
     "base_uri": "https://localhost:8080/",
     "height": 35
    },
    "colab_type": "code",
    "executionInfo": {
     "elapsed": 9098,
     "status": "ok",
     "timestamp": 1594305151903,
     "user": {
      "displayName": "Edo Septian",
      "photoUrl": "https://lh3.googleusercontent.com/a-/AOh14Gh46t-jaOjIXe6NPakv6dZYr0_ESnDxoThmqkSWGQ=s64",
      "userId": "01836774562051920989"
     },
     "user_tz": -420
    },
    "id": "MO55Aj3Fm9Yp",
    "outputId": "94bbde79-7d8b-4a00-ed54-7eb495ec2b2c"
   },
   "outputs": [
    {
     "data": {
      "text/plain": [
       "(9.337159006323436, 0.009385592266451082)"
      ]
     },
     "execution_count": 6,
     "metadata": {},
     "output_type": "execute_result"
    }
   ],
   "source": [
    "stat, p = st.jarque_bera(df.age)\n",
    "stat, p"
   ]
  },
  {
   "cell_type": "markdown",
   "metadata": {
    "colab_type": "text",
    "id": "Zijek4DQynyi"
   },
   "source": [
    "Berdasarkan uji jarque bera, diperoleh p-value = 0.009 < α = 0.05. Dengan menggunakan tingkat kepercayaan 95%, data yang ada mendukung bahwa data tidak berdistribusi normal. Maka nanti data tersebut bisa kita transform."
   ]
  },
  {
   "cell_type": "markdown",
   "metadata": {
    "colab_type": "text",
    "id": "-UaZqRxHIYkn"
   },
   "source": [
    "Dengan asumsi bahwa variabel `serum_sodium` terdistribusi Gaussian, maka berapa peluang mengobservasi nilainya lebih dari 140?"
   ]
  },
  {
   "cell_type": "code",
   "execution_count": 7,
   "metadata": {
    "ExecuteTime": {
     "end_time": "2020-08-10T12:55:27.142535Z",
     "start_time": "2020-08-10T12:55:26.929570Z"
    },
    "colab": {
     "base_uri": "https://localhost:8080/",
     "height": 314
    },
    "colab_type": "code",
    "executionInfo": {
     "elapsed": 9054,
     "status": "ok",
     "timestamp": 1594305151907,
     "user": {
      "displayName": "Edo Septian",
      "photoUrl": "https://lh3.googleusercontent.com/a-/AOh14Gh46t-jaOjIXe6NPakv6dZYr0_ESnDxoThmqkSWGQ=s64",
      "userId": "01836774562051920989"
     },
     "user_tz": -420
    },
    "id": "H-9DyVaEIYko",
    "outputId": "8adcb687-c041-4626-9c0a-c77e7eb14bc0"
   },
   "outputs": [
    {
     "data": {
      "text/html": [
       "<div>\n",
       "<style scoped>\n",
       "    .dataframe tbody tr th:only-of-type {\n",
       "        vertical-align: middle;\n",
       "    }\n",
       "\n",
       "    .dataframe tbody tr th {\n",
       "        vertical-align: top;\n",
       "    }\n",
       "\n",
       "    .dataframe thead th {\n",
       "        text-align: right;\n",
       "    }\n",
       "</style>\n",
       "<table border=\"1\" class=\"dataframe\">\n",
       "  <thead>\n",
       "    <tr style=\"text-align: right;\">\n",
       "      <th></th>\n",
       "      <th>age</th>\n",
       "      <th>anaemia</th>\n",
       "      <th>creatinine_phosphokinase</th>\n",
       "      <th>diabetes</th>\n",
       "      <th>ejection_fraction</th>\n",
       "      <th>high_blood_pressure</th>\n",
       "      <th>platelets</th>\n",
       "      <th>serum_creatinine</th>\n",
       "      <th>serum_sodium</th>\n",
       "      <th>sex</th>\n",
       "      <th>smoking</th>\n",
       "      <th>time</th>\n",
       "      <th>DEATH_EVENT</th>\n",
       "    </tr>\n",
       "  </thead>\n",
       "  <tbody>\n",
       "    <tr>\n",
       "      <th>count</th>\n",
       "      <td>299.0000</td>\n",
       "      <td>299.0000</td>\n",
       "      <td>299.0000</td>\n",
       "      <td>299.0000</td>\n",
       "      <td>299.0000</td>\n",
       "      <td>299.0000</td>\n",
       "      <td>299.0000</td>\n",
       "      <td>299.0000</td>\n",
       "      <td>299.0000</td>\n",
       "      <td>299.0000</td>\n",
       "      <td>299.0000</td>\n",
       "      <td>299.0000</td>\n",
       "      <td>299.0000</td>\n",
       "    </tr>\n",
       "    <tr>\n",
       "      <th>mean</th>\n",
       "      <td>60.8339</td>\n",
       "      <td>0.4314</td>\n",
       "      <td>581.8395</td>\n",
       "      <td>0.4181</td>\n",
       "      <td>38.0836</td>\n",
       "      <td>0.3512</td>\n",
       "      <td>263358.0293</td>\n",
       "      <td>1.3939</td>\n",
       "      <td>136.6254</td>\n",
       "      <td>0.6488</td>\n",
       "      <td>0.3211</td>\n",
       "      <td>130.2609</td>\n",
       "      <td>0.3211</td>\n",
       "    </tr>\n",
       "    <tr>\n",
       "      <th>std</th>\n",
       "      <td>11.8948</td>\n",
       "      <td>0.4961</td>\n",
       "      <td>970.2879</td>\n",
       "      <td>0.4941</td>\n",
       "      <td>11.8348</td>\n",
       "      <td>0.4781</td>\n",
       "      <td>97804.2369</td>\n",
       "      <td>1.0345</td>\n",
       "      <td>4.4125</td>\n",
       "      <td>0.4781</td>\n",
       "      <td>0.4677</td>\n",
       "      <td>77.6142</td>\n",
       "      <td>0.4677</td>\n",
       "    </tr>\n",
       "    <tr>\n",
       "      <th>min</th>\n",
       "      <td>40.0000</td>\n",
       "      <td>0.0000</td>\n",
       "      <td>23.0000</td>\n",
       "      <td>0.0000</td>\n",
       "      <td>14.0000</td>\n",
       "      <td>0.0000</td>\n",
       "      <td>25100.0000</td>\n",
       "      <td>0.5000</td>\n",
       "      <td>113.0000</td>\n",
       "      <td>0.0000</td>\n",
       "      <td>0.0000</td>\n",
       "      <td>4.0000</td>\n",
       "      <td>0.0000</td>\n",
       "    </tr>\n",
       "    <tr>\n",
       "      <th>25%</th>\n",
       "      <td>51.0000</td>\n",
       "      <td>0.0000</td>\n",
       "      <td>116.5000</td>\n",
       "      <td>0.0000</td>\n",
       "      <td>30.0000</td>\n",
       "      <td>0.0000</td>\n",
       "      <td>212500.0000</td>\n",
       "      <td>0.9000</td>\n",
       "      <td>134.0000</td>\n",
       "      <td>0.0000</td>\n",
       "      <td>0.0000</td>\n",
       "      <td>73.0000</td>\n",
       "      <td>0.0000</td>\n",
       "    </tr>\n",
       "    <tr>\n",
       "      <th>50%</th>\n",
       "      <td>60.0000</td>\n",
       "      <td>0.0000</td>\n",
       "      <td>250.0000</td>\n",
       "      <td>0.0000</td>\n",
       "      <td>38.0000</td>\n",
       "      <td>0.0000</td>\n",
       "      <td>262000.0000</td>\n",
       "      <td>1.1000</td>\n",
       "      <td>137.0000</td>\n",
       "      <td>1.0000</td>\n",
       "      <td>0.0000</td>\n",
       "      <td>115.0000</td>\n",
       "      <td>0.0000</td>\n",
       "    </tr>\n",
       "    <tr>\n",
       "      <th>75%</th>\n",
       "      <td>70.0000</td>\n",
       "      <td>1.0000</td>\n",
       "      <td>582.0000</td>\n",
       "      <td>1.0000</td>\n",
       "      <td>45.0000</td>\n",
       "      <td>1.0000</td>\n",
       "      <td>303500.0000</td>\n",
       "      <td>1.4000</td>\n",
       "      <td>140.0000</td>\n",
       "      <td>1.0000</td>\n",
       "      <td>1.0000</td>\n",
       "      <td>203.0000</td>\n",
       "      <td>1.0000</td>\n",
       "    </tr>\n",
       "    <tr>\n",
       "      <th>max</th>\n",
       "      <td>95.0000</td>\n",
       "      <td>1.0000</td>\n",
       "      <td>7861.0000</td>\n",
       "      <td>1.0000</td>\n",
       "      <td>80.0000</td>\n",
       "      <td>1.0000</td>\n",
       "      <td>850000.0000</td>\n",
       "      <td>9.4000</td>\n",
       "      <td>148.0000</td>\n",
       "      <td>1.0000</td>\n",
       "      <td>1.0000</td>\n",
       "      <td>285.0000</td>\n",
       "      <td>1.0000</td>\n",
       "    </tr>\n",
       "  </tbody>\n",
       "</table>\n",
       "</div>"
      ],
      "text/plain": [
       "            age   anaemia  creatinine_phosphokinase  diabetes  \\\n",
       "count  299.0000  299.0000                  299.0000  299.0000   \n",
       "mean    60.8339    0.4314                  581.8395    0.4181   \n",
       "std     11.8948    0.4961                  970.2879    0.4941   \n",
       "min     40.0000    0.0000                   23.0000    0.0000   \n",
       "25%     51.0000    0.0000                  116.5000    0.0000   \n",
       "50%     60.0000    0.0000                  250.0000    0.0000   \n",
       "75%     70.0000    1.0000                  582.0000    1.0000   \n",
       "max     95.0000    1.0000                 7861.0000    1.0000   \n",
       "\n",
       "       ejection_fraction  high_blood_pressure    platelets  serum_creatinine  \\\n",
       "count           299.0000             299.0000     299.0000          299.0000   \n",
       "mean             38.0836               0.3512  263358.0293            1.3939   \n",
       "std              11.8348               0.4781   97804.2369            1.0345   \n",
       "min              14.0000               0.0000   25100.0000            0.5000   \n",
       "25%              30.0000               0.0000  212500.0000            0.9000   \n",
       "50%              38.0000               0.0000  262000.0000            1.1000   \n",
       "75%              45.0000               1.0000  303500.0000            1.4000   \n",
       "max              80.0000               1.0000  850000.0000            9.4000   \n",
       "\n",
       "       serum_sodium       sex   smoking      time  DEATH_EVENT  \n",
       "count      299.0000  299.0000  299.0000  299.0000     299.0000  \n",
       "mean       136.6254    0.6488    0.3211  130.2609       0.3211  \n",
       "std          4.4125    0.4781    0.4677   77.6142       0.4677  \n",
       "min        113.0000    0.0000    0.0000    4.0000       0.0000  \n",
       "25%        134.0000    0.0000    0.0000   73.0000       0.0000  \n",
       "50%        137.0000    1.0000    0.0000  115.0000       0.0000  \n",
       "75%        140.0000    1.0000    1.0000  203.0000       1.0000  \n",
       "max        148.0000    1.0000    1.0000  285.0000       1.0000  "
      ]
     },
     "execution_count": 7,
     "metadata": {},
     "output_type": "execute_result"
    }
   ],
   "source": [
    "pd.set_option(\"display.precision\", 4)\n",
    "df.describe()"
   ]
  },
  {
   "cell_type": "code",
   "execution_count": 8,
   "metadata": {
    "ExecuteTime": {
     "end_time": "2020-08-10T12:55:27.536267Z",
     "start_time": "2020-08-10T12:55:27.147523Z"
    },
    "colab": {
     "base_uri": "https://localhost:8080/",
     "height": 283
    },
    "colab_type": "code",
    "executionInfo": {
     "elapsed": 10699,
     "status": "ok",
     "timestamp": 1594305153565,
     "user": {
      "displayName": "Edo Septian",
      "photoUrl": "https://lh3.googleusercontent.com/a-/AOh14Gh46t-jaOjIXe6NPakv6dZYr0_ESnDxoThmqkSWGQ=s64",
      "userId": "01836774562051920989"
     },
     "user_tz": -420
    },
    "id": "BxhW4rIog6rd",
    "outputId": "7a8fdd3d-c1eb-4991-d3b3-c402f3afc14f"
   },
   "outputs": [
    {
     "data": {
      "text/plain": [
       "'Peluang: 0.18023546451440786'"
      ]
     },
     "execution_count": 8,
     "metadata": {},
     "output_type": "execute_result"
    },
    {
     "data": {
      "image/png": "[encoded data removed]",
      "text/plain": [
       "<Figure size 432x288 with 1 Axes>"
      ]
     },
     "metadata": {
      "needs_background": "light"
     },
     "output_type": "display_data"
    }
   ],
   "source": [
    "from scipy.stats import norm\n",
    "\n",
    "mean = df.serum_sodium.mean() #mean\n",
    "std = df.serum_sodium.std() #standard deviasi\n",
    "dist = norm(mean, std) #distribusi gaussian normal atau normal distribution\n",
    "\n",
    "serums = df.serum_sodium.values\n",
    "serums.sort()\n",
    "values = [value for value in serums]\n",
    "#hitung probabilitynya (zscore)\n",
    "probabilities = [dist.pdf(value) for value in serums]\n",
    "\n",
    "plt.plot(values, probabilities);\n",
    "\n",
    "#filter yg lebih dari 140\n",
    "serums = df.serum_sodium[df.serum_sodium > 140].unique()\n",
    "probabilities = [dist.pdf(value) for value in serums]\n",
    "f\"Peluang: {np.sum(probabilities)}\""
   ]
  },
  {
   "cell_type": "markdown",
   "metadata": {
    "colab_type": "text",
    "id": "Cn2xOP6xIYkq"
   },
   "source": [
    "### cek target"
   ]
  },
  {
   "cell_type": "code",
   "execution_count": 9,
   "metadata": {
    "ExecuteTime": {
     "end_time": "2020-08-10T12:55:27.552189Z",
     "start_time": "2020-08-10T12:55:27.541219Z"
    },
    "colab": {
     "base_uri": "https://localhost:8080/",
     "height": 69
    },
    "colab_type": "code",
    "executionInfo": {
     "elapsed": 10687,
     "status": "ok",
     "timestamp": 1594305153567,
     "user": {
      "displayName": "Edo Septian",
      "photoUrl": "https://lh3.googleusercontent.com/a-/AOh14Gh46t-jaOjIXe6NPakv6dZYr0_ESnDxoThmqkSWGQ=s64",
      "userId": "01836774562051920989"
     },
     "user_tz": -420
    },
    "id": "4CgVtIjeq_Md",
    "outputId": "a2a403a4-2681-4cba-8e8e-d9a0ffe04ead"
   },
   "outputs": [
    {
     "data": {
      "text/plain": [
       "0    0.6789\n",
       "1    0.3211\n",
       "Name: DEATH_EVENT, dtype: float64"
      ]
     },
     "execution_count": 9,
     "metadata": {},
     "output_type": "execute_result"
    }
   ],
   "source": [
    "df[\"DEATH_EVENT\"].value_counts() / len(df)"
   ]
  },
  {
   "cell_type": "code",
   "execution_count": 10,
   "metadata": {
    "ExecuteTime": {
     "end_time": "2020-08-10T12:55:27.677889Z",
     "start_time": "2020-08-10T12:55:27.555181Z"
    },
    "colab": {
     "base_uri": "https://localhost:8080/",
     "height": 35
    },
    "colab_type": "code",
    "executionInfo": {
     "elapsed": 10679,
     "status": "ok",
     "timestamp": 1594305153569,
     "user": {
      "displayName": "Edo Septian",
      "photoUrl": "https://lh3.googleusercontent.com/a-/AOh14Gh46t-jaOjIXe6NPakv6dZYr0_ESnDxoThmqkSWGQ=s64",
      "userId": "01836774562051920989"
     },
     "user_tz": -420
    },
    "id": "O3g_Uzvs5eKp",
    "outputId": "139406c3-1b6c-466e-9a3e-f3912b3747fa"
   },
   "outputs": [
    {
     "data": {
      "text/plain": [
       "array([1, 0], dtype=int64)"
      ]
     },
     "execution_count": 10,
     "metadata": {},
     "output_type": "execute_result"
    }
   ],
   "source": [
    "df[\"DEATH_EVENT\"].unique()"
   ]
  },
  {
   "cell_type": "code",
   "execution_count": 11,
   "metadata": {
    "ExecuteTime": {
     "end_time": "2020-08-10T12:55:27.808505Z",
     "start_time": "2020-08-10T12:55:27.680846Z"
    },
    "colab": {
     "base_uri": "https://localhost:8080/",
     "height": 161
    },
    "colab_type": "code",
    "executionInfo": {
     "elapsed": 10669,
     "status": "ok",
     "timestamp": 1594305153570,
     "user": {
      "displayName": "Edo Septian",
      "photoUrl": "https://lh3.googleusercontent.com/a-/AOh14Gh46t-jaOjIXe6NPakv6dZYr0_ESnDxoThmqkSWGQ=s64",
      "userId": "01836774562051920989"
     },
     "user_tz": -420
    },
    "id": "WpjjhV9zH3UN",
    "outputId": "d566e71a-d1ec-4470-e7d0-2fc0f9b4e426"
   },
   "outputs": [
    {
     "data": {
      "text/html": [
       "<div>\n",
       "<style scoped>\n",
       "    .dataframe tbody tr th:only-of-type {\n",
       "        vertical-align: middle;\n",
       "    }\n",
       "\n",
       "    .dataframe tbody tr th {\n",
       "        vertical-align: top;\n",
       "    }\n",
       "\n",
       "    .dataframe thead th {\n",
       "        text-align: right;\n",
       "    }\n",
       "</style>\n",
       "<table border=\"1\" class=\"dataframe\">\n",
       "  <thead>\n",
       "    <tr style=\"text-align: right;\">\n",
       "      <th></th>\n",
       "      <th>age</th>\n",
       "      <th>anaemia</th>\n",
       "      <th>creatinine_phosphokinase</th>\n",
       "      <th>diabetes</th>\n",
       "      <th>ejection_fraction</th>\n",
       "      <th>high_blood_pressure</th>\n",
       "      <th>platelets</th>\n",
       "      <th>serum_creatinine</th>\n",
       "      <th>serum_sodium</th>\n",
       "      <th>sex</th>\n",
       "      <th>smoking</th>\n",
       "      <th>time</th>\n",
       "    </tr>\n",
       "    <tr>\n",
       "      <th>DEATH_EVENT</th>\n",
       "      <th></th>\n",
       "      <th></th>\n",
       "      <th></th>\n",
       "      <th></th>\n",
       "      <th></th>\n",
       "      <th></th>\n",
       "      <th></th>\n",
       "      <th></th>\n",
       "      <th></th>\n",
       "      <th></th>\n",
       "      <th></th>\n",
       "      <th></th>\n",
       "    </tr>\n",
       "  </thead>\n",
       "  <tbody>\n",
       "    <tr>\n",
       "      <th>0</th>\n",
       "      <td>58.7619</td>\n",
       "      <td>0.4089</td>\n",
       "      <td>540.0542</td>\n",
       "      <td>0.4187</td>\n",
       "      <td>40.2660</td>\n",
       "      <td>0.3251</td>\n",
       "      <td>266657.4899</td>\n",
       "      <td>1.1849</td>\n",
       "      <td>138.2611</td>\n",
       "      <td>0.6502</td>\n",
       "      <td>0.3251</td>\n",
       "      <td>158.3399</td>\n",
       "    </tr>\n",
       "    <tr>\n",
       "      <th>1</th>\n",
       "      <td>65.2153</td>\n",
       "      <td>0.4792</td>\n",
       "      <td>670.1979</td>\n",
       "      <td>0.4167</td>\n",
       "      <td>33.4688</td>\n",
       "      <td>0.4062</td>\n",
       "      <td>256381.0448</td>\n",
       "      <td>1.8358</td>\n",
       "      <td>133.1667</td>\n",
       "      <td>0.6458</td>\n",
       "      <td>0.3125</td>\n",
       "      <td>70.8854</td>\n",
       "    </tr>\n",
       "  </tbody>\n",
       "</table>\n",
       "</div>"
      ],
      "text/plain": [
       "                 age  anaemia  creatinine_phosphokinase  diabetes  \\\n",
       "DEATH_EVENT                                                         \n",
       "0            58.7619   0.4089                  540.0542    0.4187   \n",
       "1            65.2153   0.4792                  670.1979    0.4167   \n",
       "\n",
       "             ejection_fraction  high_blood_pressure    platelets  \\\n",
       "DEATH_EVENT                                                        \n",
       "0                      40.2660               0.3251  266657.4899   \n",
       "1                      33.4688               0.4062  256381.0448   \n",
       "\n",
       "             serum_creatinine  serum_sodium     sex  smoking      time  \n",
       "DEATH_EVENT                                                             \n",
       "0                      1.1849      138.2611  0.6502   0.3251  158.3399  \n",
       "1                      1.8358      133.1667  0.6458   0.3125   70.8854  "
      ]
     },
     "execution_count": 11,
     "metadata": {},
     "output_type": "execute_result"
    }
   ],
   "source": [
    "df.groupby(\"DEATH_EVENT\").mean()"
   ]
  },
  {
   "cell_type": "code",
   "execution_count": 12,
   "metadata": {
    "ExecuteTime": {
     "end_time": "2020-08-10T12:55:28.044904Z",
     "start_time": "2020-08-10T12:55:27.811497Z"
    },
    "colab": {
     "base_uri": "https://localhost:8080/",
     "height": 389
    },
    "colab_type": "code",
    "executionInfo": {
     "elapsed": 10658,
     "status": "ok",
     "timestamp": 1594305153571,
     "user": {
      "displayName": "Edo Septian",
      "photoUrl": "https://lh3.googleusercontent.com/a-/AOh14Gh46t-jaOjIXe6NPakv6dZYr0_ESnDxoThmqkSWGQ=s64",
      "userId": "01836774562051920989"
     },
     "user_tz": -420
    },
    "id": "UVoByh4m518J",
    "outputId": "64f17569-c32a-4d13-ca4f-fe05c205a963"
   },
   "outputs": [
    {
     "data": {
      "image/png": "[encoded data removed]",
      "text/plain": [
       "<Figure size 576x432 with 1 Axes>"
      ]
     },
     "metadata": {
      "needs_background": "light"
     },
     "output_type": "display_data"
    }
   ],
   "source": [
    "#kita lihat distribusi target\n",
    "f, ax = plt.subplots(figsize=(8, 6))\n",
    "ax = sns.countplot(x=\"DEATH_EVENT\", data=df)\n",
    "plt.show()"
   ]
  },
  {
   "cell_type": "markdown",
   "metadata": {
    "colab_type": "text",
    "id": "qnR2QMMc6kMV"
   },
   "source": [
    "Kurang lebih ada setengahnya yang meninggal karena gagal jantung"
   ]
  },
  {
   "cell_type": "code",
   "execution_count": 13,
   "metadata": {
    "ExecuteTime": {
     "end_time": "2020-08-10T12:55:28.271710Z",
     "start_time": "2020-08-10T12:55:28.047864Z"
    },
    "colab": {
     "base_uri": "https://localhost:8080/",
     "height": 388
    },
    "colab_type": "code",
    "executionInfo": {
     "elapsed": 10646,
     "status": "ok",
     "timestamp": 1594305153572,
     "user": {
      "displayName": "Edo Septian",
      "photoUrl": "https://lh3.googleusercontent.com/a-/AOh14Gh46t-jaOjIXe6NPakv6dZYr0_ESnDxoThmqkSWGQ=s64",
      "userId": "01836774562051920989"
     },
     "user_tz": -420
    },
    "id": "e9wzSAzX7t_d",
    "outputId": "bcb55d37-6287-4b51-bd3e-a174e4b45edd"
   },
   "outputs": [
    {
     "data": {
      "image/png": "[encoded data removed]",
      "text/plain": [
       "<Figure size 576x432 with 1 Axes>"
      ]
     },
     "metadata": {
      "needs_background": "light"
     },
     "output_type": "display_data"
    }
   ],
   "source": [
    "#kita lihat hubungan antara sex dan target\n",
    "f, ax = plt.subplots(figsize=(8, 6))\n",
    "ax = sns.countplot(x=\"sex\", hue=\"DEATH_EVENT\", data=df)\n",
    "plt.show()"
   ]
  },
  {
   "cell_type": "markdown",
   "metadata": {
    "colab_type": "text",
    "id": "DfE_FTIt8oao"
   },
   "source": [
    "kita juga bisa melihat disini pasien laki-laki lebih banyak yang terkena gagal jantung"
   ]
  },
  {
   "cell_type": "code",
   "execution_count": 14,
   "metadata": {
    "ExecuteTime": {
     "end_time": "2020-08-10T12:55:28.447609Z",
     "start_time": "2020-08-10T12:55:28.275216Z"
    },
    "colab": {
     "base_uri": "https://localhost:8080/",
     "height": 389
    },
    "colab_type": "code",
    "executionInfo": {
     "elapsed": 10635,
     "status": "ok",
     "timestamp": 1594305153573,
     "user": {
      "displayName": "Edo Septian",
      "photoUrl": "https://lh3.googleusercontent.com/a-/AOh14Gh46t-jaOjIXe6NPakv6dZYr0_ESnDxoThmqkSWGQ=s64",
      "userId": "01836774562051920989"
     },
     "user_tz": -420
    },
    "id": "iqYje1BAAUg7",
    "outputId": "b851dfcb-afe7-452a-98c2-b9d6fcf0da02"
   },
   "outputs": [
    {
     "data": {
      "image/png": "[encoded data removed]",
      "text/plain": [
       "<Figure size 576x432 with 1 Axes>"
      ]
     },
     "metadata": {
      "needs_background": "light"
     },
     "output_type": "display_data"
    }
   ],
   "source": [
    "#hubungan target dengan age\n",
    "f, ax = plt.subplots(figsize=(8, 6))\n",
    "sns.stripplot(x=\"DEATH_EVENT\", y=\"age\", data=df)\n",
    "plt.show()"
   ]
  },
  {
   "cell_type": "markdown",
   "metadata": {
    "colab_type": "text",
    "id": "QzyWeI5cAt4X"
   },
   "source": [
    "Kita dapat melihat bahwa orang yang terkena gagal jantung dan orang yang tidak terkena gagal jantung memiliki usia yang sebanding."
   ]
  },
  {
   "cell_type": "code",
   "execution_count": 15,
   "metadata": {
    "ExecuteTime": {
     "end_time": "2020-08-10T12:55:28.461572Z",
     "start_time": "2020-08-10T12:55:28.449603Z"
    },
    "colab": {
     "base_uri": "https://localhost:8080/",
     "height": 260
    },
    "colab_type": "code",
    "executionInfo": {
     "elapsed": 10607,
     "status": "ok",
     "timestamp": 1594305153574,
     "user": {
      "displayName": "Edo Septian",
      "photoUrl": "https://lh3.googleusercontent.com/a-/AOh14Gh46t-jaOjIXe6NPakv6dZYr0_ESnDxoThmqkSWGQ=s64",
      "userId": "01836774562051920989"
     },
     "user_tz": -420
    },
    "id": "rijBSB3lBLDN",
    "outputId": "39a52bff-80f7-4962-8769-6144ef09c9f1"
   },
   "outputs": [
    {
     "data": {
      "text/plain": [
       "age                         0\n",
       "anaemia                     0\n",
       "creatinine_phosphokinase    0\n",
       "diabetes                    0\n",
       "ejection_fraction           0\n",
       "high_blood_pressure         0\n",
       "platelets                   0\n",
       "serum_creatinine            0\n",
       "serum_sodium                0\n",
       "sex                         0\n",
       "smoking                     0\n",
       "time                        0\n",
       "DEATH_EVENT                 0\n",
       "dtype: int64"
      ]
     },
     "execution_count": 15,
     "metadata": {},
     "output_type": "execute_result"
    }
   ],
   "source": [
    "# check for missing values\n",
    "\n",
    "df.isnull().sum()"
   ]
  },
  {
   "cell_type": "markdown",
   "metadata": {
    "colab_type": "text",
    "id": "n07qbKLxBTyN"
   },
   "source": [
    "\n",
    "Kita dapat melihat bahwa tidak ada missing value dalam dataset."
   ]
  },
  {
   "cell_type": "markdown",
   "metadata": {
    "colab_type": "text",
    "id": "MTftN5-rIYkt"
   },
   "source": [
    "# Klasifikasi"
   ]
  },
  {
   "cell_type": "markdown",
   "metadata": {
    "colab_type": "text",
    "id": "9fv2LAzsIYkt"
   },
   "source": [
    "Bagi dataset menjadi data latih dan data uji dengan rasio 70:30. Buang kolom `time` dari data dan gunakan `DEATH_EVENT` sebagai kelas yang akan diprediksi. "
   ]
  },
  {
   "cell_type": "markdown",
   "metadata": {
    "colab_type": "text",
    "id": "175J5UZarc3r"
   },
   "source": [
    "## Dataset Splitting"
   ]
  },
  {
   "cell_type": "code",
   "execution_count": 16,
   "metadata": {
    "ExecuteTime": {
     "end_time": "2020-08-10T12:55:28.585923Z",
     "start_time": "2020-08-10T12:55:28.464563Z"
    },
    "colab": {
     "base_uri": "https://localhost:8080/",
     "height": 104
    },
    "colab_type": "code",
    "executionInfo": {
     "elapsed": 10589,
     "status": "ok",
     "timestamp": 1594305153575,
     "user": {
      "displayName": "Edo Septian",
      "photoUrl": "https://lh3.googleusercontent.com/a-/AOh14Gh46t-jaOjIXe6NPakv6dZYr0_ESnDxoThmqkSWGQ=s64",
      "userId": "01836774562051920989"
     },
     "user_tz": -420
    },
    "id": "8K1OlY10rx2-",
    "outputId": "a67b52da-d001-490b-84a1-22fc639a5147"
   },
   "outputs": [
    {
     "data": {
      "text/plain": [
       "Index(['age', 'anaemia', 'creatinine_phosphokinase', 'diabetes',\n",
       "       'ejection_fraction', 'high_blood_pressure', 'platelets',\n",
       "       'serum_creatinine', 'serum_sodium', 'sex', 'smoking', 'time',\n",
       "       'DEATH_EVENT'],\n",
       "      dtype='object')"
      ]
     },
     "execution_count": 16,
     "metadata": {},
     "output_type": "execute_result"
    }
   ],
   "source": [
    "df.columns"
   ]
  },
  {
   "cell_type": "code",
   "execution_count": 17,
   "metadata": {
    "ExecuteTime": {
     "end_time": "2020-08-10T12:55:28.807190Z",
     "start_time": "2020-08-10T12:55:28.587284Z"
    },
    "colab": {
     "base_uri": "https://localhost:8080/",
     "height": 35
    },
    "colab_type": "code",
    "executionInfo": {
     "elapsed": 10569,
     "status": "ok",
     "timestamp": 1594305153575,
     "user": {
      "displayName": "Edo Septian",
      "photoUrl": "https://lh3.googleusercontent.com/a-/AOh14Gh46t-jaOjIXe6NPakv6dZYr0_ESnDxoThmqkSWGQ=s64",
      "userId": "01836774562051920989"
     },
     "user_tz": -420
    },
    "id": "nPPXXUvRIYkt",
    "outputId": "748edeba-3b6f-4ecb-b826-be1914bc2e14"
   },
   "outputs": [
    {
     "data": {
      "text/plain": [
       "((209, 11), (90, 11), (209,), (90,))"
      ]
     },
     "execution_count": 17,
     "metadata": {},
     "output_type": "execute_result"
    }
   ],
   "source": [
    "X = df.drop(columns=[\"DEATH_EVENT\", \"time\"])\n",
    "y = df.DEATH_EVENT\n",
    "\n",
    "X_train, X_test, y_train, y_test = train_test_split(X, y, test_size=0.3, stratify=y, random_state=42)\n",
    "X_train.shape, X_test.shape, y_train.shape, y_test.shape"
   ]
  },
  {
   "cell_type": "markdown",
   "metadata": {
    "colab_type": "text",
    "id": "Gf2g_3Q0wFB1"
   },
   "source": [
    "## Training"
   ]
  },
  {
   "cell_type": "code",
   "execution_count": 18,
   "metadata": {
    "ExecuteTime": {
     "end_time": "2020-08-10T12:55:28.992660Z",
     "start_time": "2020-08-10T12:55:28.814881Z"
    },
    "colab": {
     "base_uri": "https://localhost:8080/",
     "height": 222
    },
    "colab_type": "code",
    "executionInfo": {
     "elapsed": 10555,
     "status": "ok",
     "timestamp": 1594305153576,
     "user": {
      "displayName": "Edo Septian",
      "photoUrl": "https://lh3.googleusercontent.com/a-/AOh14Gh46t-jaOjIXe6NPakv6dZYr0_ESnDxoThmqkSWGQ=s64",
      "userId": "01836774562051920989"
     },
     "user_tz": -420
    },
    "id": "j2ki3ZUhv2Qy",
    "outputId": "1747e735-a328-4ce9-8446-50555a509ad7"
   },
   "outputs": [
    {
     "data": {
      "text/html": [
       "<div>\n",
       "<style scoped>\n",
       "    .dataframe tbody tr th:only-of-type {\n",
       "        vertical-align: middle;\n",
       "    }\n",
       "\n",
       "    .dataframe tbody tr th {\n",
       "        vertical-align: top;\n",
       "    }\n",
       "\n",
       "    .dataframe thead th {\n",
       "        text-align: right;\n",
       "    }\n",
       "</style>\n",
       "<table border=\"1\" class=\"dataframe\">\n",
       "  <thead>\n",
       "    <tr style=\"text-align: right;\">\n",
       "      <th></th>\n",
       "      <th>age</th>\n",
       "      <th>anaemia</th>\n",
       "      <th>creatinine_phosphokinase</th>\n",
       "      <th>diabetes</th>\n",
       "      <th>ejection_fraction</th>\n",
       "      <th>high_blood_pressure</th>\n",
       "      <th>platelets</th>\n",
       "      <th>serum_creatinine</th>\n",
       "      <th>serum_sodium</th>\n",
       "      <th>sex</th>\n",
       "      <th>smoking</th>\n",
       "    </tr>\n",
       "  </thead>\n",
       "  <tbody>\n",
       "    <tr>\n",
       "      <th>186</th>\n",
       "      <td>50.0</td>\n",
       "      <td>0</td>\n",
       "      <td>582</td>\n",
       "      <td>0</td>\n",
       "      <td>50</td>\n",
       "      <td>0</td>\n",
       "      <td>153000.0</td>\n",
       "      <td>0.6</td>\n",
       "      <td>138</td>\n",
       "      <td>0</td>\n",
       "      <td>0</td>\n",
       "    </tr>\n",
       "    <tr>\n",
       "      <th>258</th>\n",
       "      <td>45.0</td>\n",
       "      <td>1</td>\n",
       "      <td>66</td>\n",
       "      <td>1</td>\n",
       "      <td>25</td>\n",
       "      <td>0</td>\n",
       "      <td>233000.0</td>\n",
       "      <td>0.8</td>\n",
       "      <td>141</td>\n",
       "      <td>1</td>\n",
       "      <td>0</td>\n",
       "    </tr>\n",
       "    <tr>\n",
       "      <th>104</th>\n",
       "      <td>60.0</td>\n",
       "      <td>0</td>\n",
       "      <td>53</td>\n",
       "      <td>0</td>\n",
       "      <td>50</td>\n",
       "      <td>1</td>\n",
       "      <td>286000.0</td>\n",
       "      <td>2.3</td>\n",
       "      <td>136</td>\n",
       "      <td>0</td>\n",
       "      <td>0</td>\n",
       "    </tr>\n",
       "    <tr>\n",
       "      <th>161</th>\n",
       "      <td>45.0</td>\n",
       "      <td>1</td>\n",
       "      <td>130</td>\n",
       "      <td>0</td>\n",
       "      <td>35</td>\n",
       "      <td>0</td>\n",
       "      <td>174000.0</td>\n",
       "      <td>0.8</td>\n",
       "      <td>137</td>\n",
       "      <td>1</td>\n",
       "      <td>1</td>\n",
       "    </tr>\n",
       "    <tr>\n",
       "      <th>263</th>\n",
       "      <td>68.0</td>\n",
       "      <td>1</td>\n",
       "      <td>157</td>\n",
       "      <td>1</td>\n",
       "      <td>60</td>\n",
       "      <td>0</td>\n",
       "      <td>208000.0</td>\n",
       "      <td>1.0</td>\n",
       "      <td>141</td>\n",
       "      <td>0</td>\n",
       "      <td>0</td>\n",
       "    </tr>\n",
       "  </tbody>\n",
       "</table>\n",
       "</div>"
      ],
      "text/plain": [
       "      age  anaemia  creatinine_phosphokinase  diabetes  ejection_fraction  \\\n",
       "186  50.0        0                       582         0                 50   \n",
       "258  45.0        1                        66         1                 25   \n",
       "104  60.0        0                        53         0                 50   \n",
       "161  45.0        1                       130         0                 35   \n",
       "263  68.0        1                       157         1                 60   \n",
       "\n",
       "     high_blood_pressure  platelets  serum_creatinine  serum_sodium  sex  \\\n",
       "186                    0   153000.0               0.6           138    0   \n",
       "258                    0   233000.0               0.8           141    1   \n",
       "104                    1   286000.0               2.3           136    0   \n",
       "161                    0   174000.0               0.8           137    1   \n",
       "263                    0   208000.0               1.0           141    0   \n",
       "\n",
       "     smoking  \n",
       "186        0  \n",
       "258        0  \n",
       "104        0  \n",
       "161        1  \n",
       "263        0  "
      ]
     },
     "execution_count": 18,
     "metadata": {},
     "output_type": "execute_result"
    }
   ],
   "source": [
    "X_train.head()"
   ]
  },
  {
   "cell_type": "code",
   "execution_count": 19,
   "metadata": {
    "ExecuteTime": {
     "end_time": "2020-08-10T12:55:29.198669Z",
     "start_time": "2020-08-10T12:55:28.994656Z"
    },
    "colab": {},
    "colab_type": "code",
    "id": "rltxPGjuIYkx"
   },
   "outputs": [],
   "source": [
    "from sklearn.linear_model import LogisticRegression\n",
    "from sklearn.model_selection import GridSearchCV\n",
    "from jcopml.tuning import grid_search_params as gsp"
   ]
  },
  {
   "cell_type": "code",
   "execution_count": 20,
   "metadata": {
    "ExecuteTime": {
     "end_time": "2020-08-10T12:55:33.212053Z",
     "start_time": "2020-08-10T12:55:29.201300Z"
    },
    "colab": {
     "base_uri": "https://localhost:8080/",
     "height": 104
    },
    "colab_type": "code",
    "executionInfo": {
     "elapsed": 13583,
     "status": "ok",
     "timestamp": 1594305156642,
     "user": {
      "displayName": "Edo Septian",
      "photoUrl": "https://lh3.googleusercontent.com/a-/AOh14Gh46t-jaOjIXe6NPakv6dZYr0_ESnDxoThmqkSWGQ=s64",
      "userId": "01836774562051920989"
     },
     "user_tz": -420
    },
    "id": "t1_y_9MK08V2",
    "outputId": "938ff3be-3f52-41ad-8056-bf15e950247e"
   },
   "outputs": [
    {
     "name": "stdout",
     "output_type": "stream",
     "text": [
      "Fitting 3 folds for each of 14 candidates, totalling 42 fits\n"
     ]
    },
    {
     "name": "stderr",
     "output_type": "stream",
     "text": [
      "[Parallel(n_jobs=-1)]: Using backend LokyBackend with 4 concurrent workers.\n"
     ]
    },
    {
     "name": "stdout",
     "output_type": "stream",
     "text": [
      "{'algo__C': 0.1, 'algo__fit_intercept': True}\n",
      "0.7464114832535885 0.7418219461697723 0.7777777777777778\n"
     ]
    },
    {
     "name": "stderr",
     "output_type": "stream",
     "text": [
      "[Parallel(n_jobs=-1)]: Done  42 out of  42 | elapsed:    3.8s finished\n"
     ]
    }
   ],
   "source": [
    "preprocessor = ColumnTransformer([\n",
    "    ('numeric', num_pipe(), [\"age\", \"creatinine_phosphokinase\", \"ejection_fraction\", \"platelets\", \"serum_creatinine\", \"serum_sodium\"]),\n",
    "    ('categoric', cat_pipe(encoder='onehot'), [\"anaemia\", \"diabetes\", \"high_blood_pressure\", \"sex\", \"smoking\"]),\n",
    "])\n",
    "\n",
    "pipeline = Pipeline([\n",
    "    ('prep', preprocessor),\n",
    "    ('algo', LogisticRegression(solver='lbfgs', n_jobs=-1, random_state=42))\n",
    "])\n",
    "\n",
    "model = GridSearchCV(pipeline, gsp.logreg_params, cv=3, n_jobs=-1, verbose=1)\n",
    "model.fit(X_train, y_train)\n",
    "\n",
    "print(model.best_params_)\n",
    "print(model.score(X_train, y_train), model.best_score_, model.score(X_test, y_test))"
   ]
  },
  {
   "cell_type": "markdown",
   "metadata": {
    "colab_type": "text",
    "id": "6ohLTwbQOCHj"
   },
   "source": [
    "akurasi sudah cukup baik, tetapi masih bisa kita improve:\n",
    "\n",
    "\n",
    "*   tambahkan scaling dan transform datanya\n",
    "*   mencoba algoritma lain\n",
    "*   bisa juga kita binning fitur age nya, mungkin data itu bisa menjadi lebih bermakna\n",
    "\n",
    "\n",
    "\n",
    "\n"
   ]
  },
  {
   "cell_type": "code",
   "execution_count": 21,
   "metadata": {
    "ExecuteTime": {
     "end_time": "2020-08-10T12:55:35.262287Z",
     "start_time": "2020-08-10T12:55:33.215010Z"
    },
    "colab": {
     "base_uri": "https://localhost:8080/",
     "height": 159
    },
    "colab_type": "code",
    "executionInfo": {
     "elapsed": 16950,
     "status": "ok",
     "timestamp": 1594305160080,
     "user": {
      "displayName": "Edo Septian",
      "photoUrl": "https://lh3.googleusercontent.com/a-/AOh14Gh46t-jaOjIXe6NPakv6dZYr0_ESnDxoThmqkSWGQ=s64",
      "userId": "01836774562051920989"
     },
     "user_tz": -420
    },
    "id": "rEUl8LBvf3AQ",
    "outputId": "cfbc4cf5-f06d-4784-eb30-e310fc2515d8"
   },
   "outputs": [
    {
     "name": "stderr",
     "output_type": "stream",
     "text": [
      "C:\\Users\\ASUS\\Miniconda3\\envs\\jcopml\\lib\\site-packages\\jcopml\\pipeline\\_pipeline.py:65: UserWarning: Transformer has default standardization, so the scaling argument is neglected\n",
      "  warn(\"Transformer has default standardization, so the scaling argument is neglected\")\n",
      "[Parallel(n_jobs=-1)]: Using backend LokyBackend with 4 concurrent workers.\n"
     ]
    },
    {
     "name": "stdout",
     "output_type": "stream",
     "text": [
      "Fitting 3 folds for each of 14 candidates, totalling 42 fits\n",
      "{'algo__C': 10.0, 'algo__fit_intercept': True}\n",
      "0.8564593301435407 0.8421670117322292 0.8444444444444444\n"
     ]
    },
    {
     "name": "stderr",
     "output_type": "stream",
     "text": [
      "[Parallel(n_jobs=-1)]: Done  42 out of  42 | elapsed:    1.9s finished\n"
     ]
    }
   ],
   "source": [
    "#coba pakai scaling standard sama transform yeo johnson\n",
    "preprocessor = ColumnTransformer([\n",
    "    ('numeric', num_pipe(scaling='standard', transform='yeo-johnson'), [\"age\", \"creatinine_phosphokinase\", \"ejection_fraction\", \"platelets\", \"serum_creatinine\", \"serum_sodium\"]),\n",
    "    ('categoric', cat_pipe(encoder='onehot'), [\"anaemia\", \"diabetes\", \"high_blood_pressure\", \"sex\", \"smoking\"]),\n",
    "])\n",
    "\n",
    "pipeline = Pipeline([\n",
    "    ('prep', preprocessor),\n",
    "    ('algo', LogisticRegression(solver='lbfgs', n_jobs=-1, random_state=42))\n",
    "])\n",
    "\n",
    "model = GridSearchCV(pipeline, gsp.logreg_params, cv=3, n_jobs=-1, verbose=1)\n",
    "model.fit(X_train, y_train)\n",
    "\n",
    "print(model.best_params_)\n",
    "print(model.score(X_train, y_train), model.best_score_, model.score(X_test, y_test))"
   ]
  },
  {
   "cell_type": "code",
   "execution_count": 22,
   "metadata": {
    "ExecuteTime": {
     "end_time": "2020-08-10T12:55:35.273260Z",
     "start_time": "2020-08-10T12:55:35.266276Z"
    },
    "colab": {},
    "colab_type": "code",
    "id": "YF3L6D2gTZrH"
   },
   "outputs": [],
   "source": [
    "#coba algoritma lain\n",
    "from sklearn.ensemble import RandomForestClassifier\n",
    "from sklearn.model_selection import RandomizedSearchCV\n",
    "from jcopml.tuning import random_search_params as rsp"
   ]
  },
  {
   "cell_type": "code",
   "execution_count": 23,
   "metadata": {
    "ExecuteTime": {
     "end_time": "2020-08-10T12:56:07.423157Z",
     "start_time": "2020-08-10T12:55:35.280241Z"
    },
    "colab": {
     "base_uri": "https://localhost:8080/",
     "height": 211
    },
    "colab_type": "code",
    "executionInfo": {
     "elapsed": 70648,
     "status": "ok",
     "timestamp": 1594305213835,
     "user": {
      "displayName": "Edo Septian",
      "photoUrl": "https://lh3.googleusercontent.com/a-/AOh14Gh46t-jaOjIXe6NPakv6dZYr0_ESnDxoThmqkSWGQ=s64",
      "userId": "01836774562051920989"
     },
     "user_tz": -420
    },
    "id": "wGb2ns6rveSL",
    "outputId": "841da43b-24b9-443f-c15a-8974dcd5f58e"
   },
   "outputs": [
    {
     "name": "stderr",
     "output_type": "stream",
     "text": [
      "C:\\Users\\ASUS\\Miniconda3\\envs\\jcopml\\lib\\site-packages\\jcopml\\pipeline\\_pipeline.py:65: UserWarning: Transformer has default standardization, so the scaling argument is neglected\n",
      "  warn(\"Transformer has default standardization, so the scaling argument is neglected\")\n"
     ]
    },
    {
     "name": "stdout",
     "output_type": "stream",
     "text": [
      "Fitting 3 folds for each of 50 candidates, totalling 150 fits\n"
     ]
    },
    {
     "name": "stderr",
     "output_type": "stream",
     "text": [
      "[Parallel(n_jobs=-1)]: Using backend LokyBackend with 4 concurrent workers.\n",
      "[Parallel(n_jobs=-1)]: Done  42 tasks      | elapsed:    8.5s\n",
      "[Parallel(n_jobs=-1)]: Done 150 out of 150 | elapsed:   30.8s finished\n",
      "C:\\Users\\ASUS\\Miniconda3\\envs\\jcopml\\lib\\site-packages\\sklearn\\preprocessing\\_data.py:2970: RuntimeWarning: divide by zero encountered in log\n",
      "  loglike = -n_samples / 2 * np.log(x_trans.var())\n"
     ]
    },
    {
     "name": "stdout",
     "output_type": "stream",
     "text": [
      "{'algo__max_depth': 27, 'algo__max_features': 0.5045056067243832, 'algo__min_samples_leaf': 1, 'algo__n_estimators': 147, 'prep__numeric__poly__degree': 3, 'prep__numeric__poly__interaction_only': True}\n",
      "1.0 0.8518288474810213 0.7777777777777778\n"
     ]
    }
   ],
   "source": [
    "preprocessor = ColumnTransformer([\n",
    "    ('numeric', num_pipe(scaling='standard', transform='yeo-johnson', poly=2), [\"age\", \"creatinine_phosphokinase\", \"ejection_fraction\", \"platelets\", \"serum_creatinine\", \"serum_sodium\"]),\n",
    "    ('categoric', cat_pipe(encoder='onehot'), [\"anaemia\", \"diabetes\", \"high_blood_pressure\", \"sex\", \"smoking\"]),\n",
    "])\n",
    "\n",
    "pipeline = Pipeline([\n",
    "    ('prep', preprocessor),\n",
    "    ('algo', RandomForestClassifier(n_jobs=-1, random_state=42))\n",
    "])\n",
    "\n",
    "model = RandomizedSearchCV(pipeline, rsp.rf_poly_params, cv=3,  n_iter=50, n_jobs=-1, verbose=1, random_state=42)\n",
    "model.fit(X_train, y_train)\n",
    "\n",
    "print(model.best_params_)\n",
    "print(model.score(X_train, y_train), model.best_score_, model.score(X_test, y_test))"
   ]
  },
  {
   "cell_type": "markdown",
   "metadata": {
    "colab_type": "text",
    "id": "yOKgXUTkeIZ_"
   },
   "source": [
    "ternyata hasil nya masih lebih bagus pakai algoritma logistic regression, karena jika soal klasifikasi seperti ini lebih cocok logistic regression"
   ]
  },
  {
   "cell_type": "code",
   "execution_count": 24,
   "metadata": {
    "ExecuteTime": {
     "end_time": "2020-08-10T12:56:24.939056Z",
     "start_time": "2020-08-10T12:56:07.427148Z"
    },
    "colab": {
     "base_uri": "https://localhost:8080/",
     "height": 211
    },
    "colab_type": "code",
    "executionInfo": {
     "elapsed": 103579,
     "status": "ok",
     "timestamp": 1594305246800,
     "user": {
      "displayName": "Edo Septian",
      "photoUrl": "https://lh3.googleusercontent.com/a-/AOh14Gh46t-jaOjIXe6NPakv6dZYr0_ESnDxoThmqkSWGQ=s64",
      "userId": "01836774562051920989"
     },
     "user_tz": -420
    },
    "id": "jz5X-TqCvqh6",
    "outputId": "25be771f-af2a-428b-deba-122637b137a0"
   },
   "outputs": [
    {
     "name": "stdout",
     "output_type": "stream",
     "text": [
      "Fitting 3 folds for each of 84 candidates, totalling 252 fits\n"
     ]
    },
    {
     "name": "stderr",
     "output_type": "stream",
     "text": [
      "C:\\Users\\ASUS\\Miniconda3\\envs\\jcopml\\lib\\site-packages\\jcopml\\pipeline\\_pipeline.py:65: UserWarning: Transformer has default standardization, so the scaling argument is neglected\n",
      "  warn(\"Transformer has default standardization, so the scaling argument is neglected\")\n",
      "[Parallel(n_jobs=-1)]: Using backend LokyBackend with 4 concurrent workers.\n",
      "[Parallel(n_jobs=-1)]: Done  76 tasks      | elapsed:    4.9s\n",
      "[Parallel(n_jobs=-1)]: Done 252 out of 252 | elapsed:   17.0s finished\n",
      "C:\\Users\\ASUS\\Miniconda3\\envs\\jcopml\\lib\\site-packages\\sklearn\\preprocessing\\_data.py:2970: RuntimeWarning: divide by zero encountered in log\n",
      "  loglike = -n_samples / 2 * np.log(x_trans.var())\n"
     ]
    },
    {
     "name": "stdout",
     "output_type": "stream",
     "text": [
      "{'algo__C': 1.0, 'algo__fit_intercept': True, 'prep__numeric__poly__degree': 3, 'prep__numeric__poly__interaction_only': False}\n",
      "0.861244019138756 0.8518288474810215 0.8333333333333334\n"
     ]
    }
   ],
   "source": [
    "#coba tambahkan poly\n",
    "preprocessor = ColumnTransformer([\n",
    "    ('numeric', num_pipe(scaling='standard', transform='yeo-johnson', poly=2), [\"age\", \"creatinine_phosphokinase\", \"ejection_fraction\", \"platelets\", \"serum_creatinine\", \"serum_sodium\"]),\n",
    "    ('categoric', cat_pipe(encoder='onehot'), [\"anaemia\", \"diabetes\", \"high_blood_pressure\", \"sex\", \"smoking\"]),\n",
    "])\n",
    "\n",
    "pipeline = Pipeline([\n",
    "    ('prep', preprocessor),\n",
    "    ('algo', LogisticRegression(solver='lbfgs', n_jobs=-1, random_state=42))\n",
    "])\n",
    "\n",
    "model = GridSearchCV(pipeline, gsp.logreg_poly_params, cv=3, n_jobs=-1, verbose=1)\n",
    "model.fit(X_train, y_train)\n",
    "\n",
    "print(model.best_params_)\n",
    "print(model.score(X_train, y_train), model.best_score_, model.score(X_test, y_test))"
   ]
  },
  {
   "cell_type": "code",
   "execution_count": 25,
   "metadata": {
    "ExecuteTime": {
     "end_time": "2020-08-10T12:56:24.970973Z",
     "start_time": "2020-08-10T12:56:24.942050Z"
    },
    "colab": {
     "base_uri": "https://localhost:8080/",
     "height": 222
    },
    "colab_type": "code",
    "executionInfo": {
     "elapsed": 103540,
     "status": "ok",
     "timestamp": 1594305246801,
     "user": {
      "displayName": "Edo Septian",
      "photoUrl": "https://lh3.googleusercontent.com/a-/AOh14Gh46t-jaOjIXe6NPakv6dZYr0_ESnDxoThmqkSWGQ=s64",
      "userId": "01836774562051920989"
     },
     "user_tz": -420
    },
    "id": "x2neUIKTqKTy",
    "outputId": "e614fa87-633f-4c45-d1e1-7d807d71a107"
   },
   "outputs": [
    {
     "data": {
      "text/html": [
       "<div>\n",
       "<style scoped>\n",
       "    .dataframe tbody tr th:only-of-type {\n",
       "        vertical-align: middle;\n",
       "    }\n",
       "\n",
       "    .dataframe tbody tr th {\n",
       "        vertical-align: top;\n",
       "    }\n",
       "\n",
       "    .dataframe thead th {\n",
       "        text-align: right;\n",
       "    }\n",
       "</style>\n",
       "<table border=\"1\" class=\"dataframe\">\n",
       "  <thead>\n",
       "    <tr style=\"text-align: right;\">\n",
       "      <th></th>\n",
       "      <th>age</th>\n",
       "      <th>anaemia</th>\n",
       "      <th>creatinine_phosphokinase</th>\n",
       "      <th>diabetes</th>\n",
       "      <th>ejection_fraction</th>\n",
       "      <th>high_blood_pressure</th>\n",
       "      <th>platelets</th>\n",
       "      <th>serum_creatinine</th>\n",
       "      <th>serum_sodium</th>\n",
       "      <th>sex</th>\n",
       "      <th>smoking</th>\n",
       "      <th>time</th>\n",
       "      <th>DEATH_EVENT</th>\n",
       "      <th>age_category</th>\n",
       "    </tr>\n",
       "  </thead>\n",
       "  <tbody>\n",
       "    <tr>\n",
       "      <th>0</th>\n",
       "      <td>75.0</td>\n",
       "      <td>0</td>\n",
       "      <td>582</td>\n",
       "      <td>0</td>\n",
       "      <td>20</td>\n",
       "      <td>1</td>\n",
       "      <td>265000.00</td>\n",
       "      <td>1.9</td>\n",
       "      <td>113</td>\n",
       "      <td>1</td>\n",
       "      <td>0</td>\n",
       "      <td>4</td>\n",
       "      <td>1</td>\n",
       "      <td>lansia_akhir</td>\n",
       "    </tr>\n",
       "    <tr>\n",
       "      <th>1</th>\n",
       "      <td>55.0</td>\n",
       "      <td>0</td>\n",
       "      <td>7861</td>\n",
       "      <td>0</td>\n",
       "      <td>38</td>\n",
       "      <td>0</td>\n",
       "      <td>263358.03</td>\n",
       "      <td>1.1</td>\n",
       "      <td>116</td>\n",
       "      <td>1</td>\n",
       "      <td>0</td>\n",
       "      <td>6</td>\n",
       "      <td>1</td>\n",
       "      <td>lansia_awal</td>\n",
       "    </tr>\n",
       "    <tr>\n",
       "      <th>2</th>\n",
       "      <td>65.0</td>\n",
       "      <td>0</td>\n",
       "      <td>146</td>\n",
       "      <td>0</td>\n",
       "      <td>20</td>\n",
       "      <td>0</td>\n",
       "      <td>162000.00</td>\n",
       "      <td>1.3</td>\n",
       "      <td>121</td>\n",
       "      <td>1</td>\n",
       "      <td>1</td>\n",
       "      <td>7</td>\n",
       "      <td>1</td>\n",
       "      <td>lansia_awal</td>\n",
       "    </tr>\n",
       "    <tr>\n",
       "      <th>3</th>\n",
       "      <td>50.0</td>\n",
       "      <td>1</td>\n",
       "      <td>111</td>\n",
       "      <td>0</td>\n",
       "      <td>20</td>\n",
       "      <td>0</td>\n",
       "      <td>210000.00</td>\n",
       "      <td>1.9</td>\n",
       "      <td>124</td>\n",
       "      <td>1</td>\n",
       "      <td>0</td>\n",
       "      <td>7</td>\n",
       "      <td>1</td>\n",
       "      <td>dewasa</td>\n",
       "    </tr>\n",
       "    <tr>\n",
       "      <th>4</th>\n",
       "      <td>65.0</td>\n",
       "      <td>1</td>\n",
       "      <td>160</td>\n",
       "      <td>1</td>\n",
       "      <td>20</td>\n",
       "      <td>0</td>\n",
       "      <td>327000.00</td>\n",
       "      <td>2.7</td>\n",
       "      <td>125</td>\n",
       "      <td>0</td>\n",
       "      <td>0</td>\n",
       "      <td>8</td>\n",
       "      <td>1</td>\n",
       "      <td>lansia_awal</td>\n",
       "    </tr>\n",
       "  </tbody>\n",
       "</table>\n",
       "</div>"
      ],
      "text/plain": [
       "    age  anaemia  creatinine_phosphokinase  diabetes  ejection_fraction  \\\n",
       "0  75.0        0                       582         0                 20   \n",
       "1  55.0        0                      7861         0                 38   \n",
       "2  65.0        0                       146         0                 20   \n",
       "3  50.0        1                       111         0                 20   \n",
       "4  65.0        1                       160         1                 20   \n",
       "\n",
       "   high_blood_pressure  platelets  serum_creatinine  serum_sodium  sex  \\\n",
       "0                    1  265000.00               1.9           113    1   \n",
       "1                    0  263358.03               1.1           116    1   \n",
       "2                    0  162000.00               1.3           121    1   \n",
       "3                    0  210000.00               1.9           124    1   \n",
       "4                    0  327000.00               2.7           125    0   \n",
       "\n",
       "   smoking  time  DEATH_EVENT  age_category  \n",
       "0        0     4            1  lansia_akhir  \n",
       "1        0     6            1   lansia_awal  \n",
       "2        1     7            1   lansia_awal  \n",
       "3        0     7            1        dewasa  \n",
       "4        0     8            1   lansia_awal  "
      ]
     },
     "execution_count": 25,
     "metadata": {},
     "output_type": "execute_result"
    }
   ],
   "source": [
    "#coba kita binning dulu age nya\n",
    "#dimana numeric menjadi categoric, dengan harapan jika jadi categoric akan lebih bermakna data tersebut\n",
    "#min40, max95\n",
    "df[\"age_category\"] = pd.cut(df.age, [40, 50, 70, 95], labels=[\"dewasa\", \"lansia_awal\", \"lansia_akhir\"])\n",
    "df.head()"
   ]
  },
  {
   "cell_type": "code",
   "execution_count": 26,
   "metadata": {
    "ExecuteTime": {
     "end_time": "2020-08-10T12:56:25.098630Z",
     "start_time": "2020-08-10T12:56:24.978953Z"
    },
    "colab": {
     "base_uri": "https://localhost:8080/",
     "height": 87
    },
    "colab_type": "code",
    "executionInfo": {
     "elapsed": 103523,
     "status": "ok",
     "timestamp": 1594305246802,
     "user": {
      "displayName": "Edo Septian",
      "photoUrl": "https://lh3.googleusercontent.com/a-/AOh14Gh46t-jaOjIXe6NPakv6dZYr0_ESnDxoThmqkSWGQ=s64",
      "userId": "01836774562051920989"
     },
     "user_tz": -420
    },
    "id": "1K9wntgwvMqy",
    "outputId": "23c79459-fd50-4dce-ebef-877baeeac850"
   },
   "outputs": [
    {
     "data": {
      "text/plain": [
       "lansia_awal     173\n",
       "dewasa           67\n",
       "lansia_akhir     52\n",
       "Name: age_category, dtype: int64"
      ]
     },
     "execution_count": 26,
     "metadata": {},
     "output_type": "execute_result"
    }
   ],
   "source": [
    "df.age_category.value_counts()"
   ]
  },
  {
   "cell_type": "code",
   "execution_count": 27,
   "metadata": {
    "ExecuteTime": {
     "end_time": "2020-08-10T12:56:25.217341Z",
     "start_time": "2020-08-10T12:56:25.101623Z"
    },
    "colab": {
     "base_uri": "https://localhost:8080/",
     "height": 35
    },
    "colab_type": "code",
    "executionInfo": {
     "elapsed": 103511,
     "status": "ok",
     "timestamp": 1594305246803,
     "user": {
      "displayName": "Edo Septian",
      "photoUrl": "https://lh3.googleusercontent.com/a-/AOh14Gh46t-jaOjIXe6NPakv6dZYr0_ESnDxoThmqkSWGQ=s64",
      "userId": "01836774562051920989"
     },
     "user_tz": -420
    },
    "id": "um04jAH3xXSR",
    "outputId": "af9bb694-dd1d-4e9b-b244-10e9f9013d69"
   },
   "outputs": [
    {
     "data": {
      "text/plain": [
       "((209, 12), (90, 12), (209,), (90,))"
      ]
     },
     "execution_count": 27,
     "metadata": {},
     "output_type": "execute_result"
    }
   ],
   "source": [
    "X = df.drop(columns=[\"DEATH_EVENT\", \"time\"])\n",
    "y = df.DEATH_EVENT\n",
    "\n",
    "X_train, X_test, y_train, y_test = train_test_split(X, y, test_size=0.3, stratify=y, random_state=42)\n",
    "X_train.shape, X_test.shape, y_train.shape, y_test.shape"
   ]
  },
  {
   "cell_type": "code",
   "execution_count": 28,
   "metadata": {
    "ExecuteTime": {
     "end_time": "2020-08-10T12:56:27.234318Z",
     "start_time": "2020-08-10T12:56:25.220305Z"
    },
    "colab": {
     "base_uri": "https://localhost:8080/",
     "height": 159
    },
    "colab_type": "code",
    "executionInfo": {
     "elapsed": 106698,
     "status": "ok",
     "timestamp": 1594305250007,
     "user": {
      "displayName": "Edo Septian",
      "photoUrl": "https://lh3.googleusercontent.com/a-/AOh14Gh46t-jaOjIXe6NPakv6dZYr0_ESnDxoThmqkSWGQ=s64",
      "userId": "01836774562051920989"
     },
     "user_tz": -420
    },
    "id": "aAai2G0XxNo_",
    "outputId": "617c162b-e3b8-4ffe-da08-08b53e7929a6"
   },
   "outputs": [
    {
     "name": "stderr",
     "output_type": "stream",
     "text": [
      "C:\\Users\\ASUS\\Miniconda3\\envs\\jcopml\\lib\\site-packages\\jcopml\\pipeline\\_pipeline.py:65: UserWarning: Transformer has default standardization, so the scaling argument is neglected\n",
      "  warn(\"Transformer has default standardization, so the scaling argument is neglected\")\n",
      "[Parallel(n_jobs=-1)]: Using backend LokyBackend with 4 concurrent workers.\n"
     ]
    },
    {
     "name": "stdout",
     "output_type": "stream",
     "text": [
      "Fitting 3 folds for each of 14 candidates, totalling 42 fits\n",
      "{'algo__C': 0.1, 'algo__fit_intercept': False}\n",
      "0.8708133971291866 0.8182194616977226 0.8333333333333334\n"
     ]
    },
    {
     "name": "stderr",
     "output_type": "stream",
     "text": [
      "[Parallel(n_jobs=-1)]: Done  42 out of  42 | elapsed:    1.7s finished\n"
     ]
    }
   ],
   "source": [
    "#pakai binningnya\n",
    "preprocessor = ColumnTransformer([\n",
    "    ('numeric', num_pipe(scaling='standard', transform='yeo-johnson'), [\"creatinine_phosphokinase\", \"ejection_fraction\", \"platelets\", \"serum_creatinine\", \"serum_sodium\"]),\n",
    "    ('categoric', cat_pipe(encoder='onehot'), [\"age_category\", \"anaemia\", \"diabetes\", \"high_blood_pressure\", \"sex\", \"smoking\"]),\n",
    "])\n",
    "\n",
    "pipeline = Pipeline([\n",
    "    ('prep', preprocessor),\n",
    "    ('algo', LogisticRegression(solver='lbfgs', n_jobs=-1, random_state=42))\n",
    "])\n",
    "\n",
    "model = GridSearchCV(pipeline, gsp.logreg_params, cv=3, n_jobs=-1, verbose=1)\n",
    "model.fit(X_train, y_train)\n",
    "\n",
    "print(model.best_params_)\n",
    "print(model.score(X_train, y_train), model.best_score_, model.score(X_test, y_test))"
   ]
  },
  {
   "cell_type": "markdown",
   "metadata": {
    "colab_type": "text",
    "id": "RbNW7XwOyk7B"
   },
   "source": [
    "ternyata hasilnya tidak cukup baik dari model kedua kita tadi"
   ]
  },
  {
   "cell_type": "code",
   "execution_count": 29,
   "metadata": {
    "ExecuteTime": {
     "end_time": "2020-08-10T12:56:29.130965Z",
     "start_time": "2020-08-10T12:56:27.237310Z"
    },
    "colab": {
     "base_uri": "https://localhost:8080/",
     "height": 159
    },
    "colab_type": "code",
    "executionInfo": {
     "elapsed": 109900,
     "status": "ok",
     "timestamp": 1594305253226,
     "user": {
      "displayName": "Edo Septian",
      "photoUrl": "https://lh3.googleusercontent.com/a-/AOh14Gh46t-jaOjIXe6NPakv6dZYr0_ESnDxoThmqkSWGQ=s64",
      "userId": "01836774562051920989"
     },
     "user_tz": -420
    },
    "id": "bczvi2DNx-1-",
    "outputId": "59553640-f0ed-451f-c5c1-e6fc340cafc8"
   },
   "outputs": [
    {
     "name": "stderr",
     "output_type": "stream",
     "text": [
      "C:\\Users\\ASUS\\Miniconda3\\envs\\jcopml\\lib\\site-packages\\jcopml\\pipeline\\_pipeline.py:65: UserWarning: Transformer has default standardization, so the scaling argument is neglected\n",
      "  warn(\"Transformer has default standardization, so the scaling argument is neglected\")\n",
      "[Parallel(n_jobs=-1)]: Using backend LokyBackend with 4 concurrent workers.\n"
     ]
    },
    {
     "name": "stdout",
     "output_type": "stream",
     "text": [
      "Fitting 3 folds for each of 14 candidates, totalling 42 fits\n",
      "{'algo__C': 10.0, 'algo__fit_intercept': True}\n",
      "0.8564593301435407 0.8421670117322292 0.8444444444444444\n"
     ]
    },
    {
     "name": "stderr",
     "output_type": "stream",
     "text": [
      "[Parallel(n_jobs=-1)]: Done  42 out of  42 | elapsed:    1.7s finished\n"
     ]
    }
   ],
   "source": [
    "preprocessor = ColumnTransformer([\n",
    "    ('numeric', num_pipe(scaling='standard', transform='yeo-johnson'), [\"age\", \"creatinine_phosphokinase\", \"ejection_fraction\", \"platelets\", \"serum_creatinine\", \"serum_sodium\"]),\n",
    "    ('categoric', cat_pipe(encoder='onehot'), [\"anaemia\", \"diabetes\", \"high_blood_pressure\", \"sex\", \"smoking\"]),\n",
    "])\n",
    "\n",
    "pipeline = Pipeline([\n",
    "    ('prep', preprocessor),\n",
    "    ('algo', LogisticRegression(solver='lbfgs', n_jobs=-1, random_state=42))\n",
    "])\n",
    "\n",
    "model = GridSearchCV(pipeline, gsp.logreg_params, cv=3, n_jobs=-1, verbose=1)\n",
    "model.fit(X_train, y_train)\n",
    "\n",
    "print(model.best_params_)\n",
    "print(model.score(X_train, y_train), model.best_score_, model.score(X_test, y_test))"
   ]
  },
  {
   "cell_type": "code",
   "execution_count": 30,
   "metadata": {
    "ExecuteTime": {
     "end_time": "2020-08-10T12:56:29.138904Z",
     "start_time": "2020-08-10T12:56:29.133920Z"
    },
    "colab": {},
    "colab_type": "code",
    "id": "VSDmqObxO5jd"
   },
   "outputs": [],
   "source": [
    "#Evaluation\n",
    "from jcopml.plot import plot_confusion_matrix"
   ]
  },
  {
   "cell_type": "code",
   "execution_count": 31,
   "metadata": {
    "ExecuteTime": {
     "end_time": "2020-08-10T12:56:29.497454Z",
     "start_time": "2020-08-10T12:56:29.141896Z"
    },
    "colab": {
     "base_uri": "https://localhost:8080/",
     "height": 355
    },
    "colab_type": "code",
    "executionInfo": {
     "elapsed": 109876,
     "status": "ok",
     "timestamp": 1594305253227,
     "user": {
      "displayName": "Edo Septian",
      "photoUrl": "https://lh3.googleusercontent.com/a-/AOh14Gh46t-jaOjIXe6NPakv6dZYr0_ESnDxoThmqkSWGQ=s64",
      "userId": "01836774562051920989"
     },
     "user_tz": -420
    },
    "id": "3YVoOa8By1KV",
    "outputId": "09e1907d-f5a6-4312-ec71-b4999edf9faa"
   },
   "outputs": [
    {
     "data": {
      "image/png": "[encoded data removed]",
      "text/plain": [
       "<Figure size 792x360 with 2 Axes>"
      ]
     },
     "metadata": {
      "needs_background": "light"
     },
     "output_type": "display_data"
    }
   ],
   "source": [
    "plot_confusion_matrix(X_train, y_train, X_test, y_test, model)"
   ]
  },
  {
   "cell_type": "code",
   "execution_count": 32,
   "metadata": {
    "ExecuteTime": {
     "end_time": "2020-08-10T12:56:31.016442Z",
     "start_time": "2020-08-10T12:56:29.499448Z"
    },
    "colab": {
     "base_uri": "https://localhost:8080/",
     "height": 426
    },
    "colab_type": "code",
    "executionInfo": {
     "elapsed": 110802,
     "status": "ok",
     "timestamp": 1594305254171,
     "user": {
      "displayName": "Edo Septian",
      "photoUrl": "https://lh3.googleusercontent.com/a-/AOh14Gh46t-jaOjIXe6NPakv6dZYr0_ESnDxoThmqkSWGQ=s64",
      "userId": "01836774562051920989"
     },
     "user_tz": -420
    },
    "id": "BiUs0Zayzvrk",
    "outputId": "dd732ca3-0c4e-4b85-b4fc-6b24d57f11a0"
   },
   "outputs": [
    {
     "data": {
      "image/png": "[encoded data removed]",
      "text/plain": [
       "<Figure size 1080x360 with 1 Axes>"
      ]
     },
     "metadata": {
      "needs_background": "light"
     },
     "output_type": "display_data"
    }
   ],
   "source": [
    "# Feature Importance\n",
    "df_imp = mean_score_decrease(X_train, y_train, model, plot=True, topk=10)"
   ]
  },
  {
   "cell_type": "code",
   "execution_count": 33,
   "metadata": {
    "ExecuteTime": {
     "end_time": "2020-08-10T12:56:32.932597Z",
     "start_time": "2020-08-10T12:56:31.019436Z"
    },
    "colab": {
     "base_uri": "https://localhost:8080/",
     "height": 159
    },
    "colab_type": "code",
    "executionInfo": {
     "elapsed": 113853,
     "status": "ok",
     "timestamp": 1594305257242,
     "user": {
      "displayName": "Edo Septian",
      "photoUrl": "https://lh3.googleusercontent.com/a-/AOh14Gh46t-jaOjIXe6NPakv6dZYr0_ESnDxoThmqkSWGQ=s64",
      "userId": "01836774562051920989"
     },
     "user_tz": -420
    },
    "id": "LSgi4ntR2-P2",
    "outputId": "93652881-8b8d-4aa7-a514-a03138bbbb1c"
   },
   "outputs": [
    {
     "name": "stderr",
     "output_type": "stream",
     "text": [
      "C:\\Users\\ASUS\\Miniconda3\\envs\\jcopml\\lib\\site-packages\\jcopml\\pipeline\\_pipeline.py:65: UserWarning: Transformer has default standardization, so the scaling argument is neglected\n",
      "  warn(\"Transformer has default standardization, so the scaling argument is neglected\")\n",
      "[Parallel(n_jobs=-1)]: Using backend LokyBackend with 4 concurrent workers.\n"
     ]
    },
    {
     "name": "stdout",
     "output_type": "stream",
     "text": [
      "Fitting 3 folds for each of 14 candidates, totalling 42 fits\n",
      "{'algo__C': 10.0, 'algo__fit_intercept': True}\n",
      "0.8660287081339713 0.8518288474810215 0.8333333333333334\n"
     ]
    },
    {
     "name": "stderr",
     "output_type": "stream",
     "text": [
      "[Parallel(n_jobs=-1)]: Done  42 out of  42 | elapsed:    1.7s finished\n"
     ]
    }
   ],
   "source": [
    "preprocessor = ColumnTransformer([\n",
    "    ('numeric', num_pipe(scaling='standard', transform='yeo-johnson'), [\"serum_sodium\", \"ejection_fraction\", \"serum_creatinine\", \"creatinine_phosphokinase\", \"age\", \"platelets\"]),\n",
    "    ('categoric', cat_pipe(encoder='onehot'), [\"high_blood_pressure\", \"sex\"]),\n",
    "])\n",
    "\n",
    "pipeline = Pipeline([\n",
    "    ('prep', preprocessor),\n",
    "    ('algo', LogisticRegression(solver='lbfgs', n_jobs=-1, random_state=42))\n",
    "])\n",
    "\n",
    "model = GridSearchCV(pipeline, gsp.logreg_params, cv=3, n_jobs=-1, verbose=1)\n",
    "model.fit(X_train, y_train)\n",
    "\n",
    "print(model.best_params_)\n",
    "print(model.score(X_train, y_train), model.best_score_, model.score(X_test, y_test))"
   ]
  },
  {
   "cell_type": "markdown",
   "metadata": {
    "colab_type": "text",
    "id": "0Co3KRa45tnL"
   },
   "source": [
    "oke ternyata fiture importance tidak cukup membantu disini, maka kita gunakan model dibawah ini."
   ]
  },
  {
   "cell_type": "code",
   "execution_count": 34,
   "metadata": {
    "ExecuteTime": {
     "end_time": "2020-08-10T12:56:34.824525Z",
     "start_time": "2020-08-10T12:56:32.935555Z"
    },
    "colab": {
     "base_uri": "https://localhost:8080/",
     "height": 159
    },
    "colab_type": "code",
    "executionInfo": {
     "elapsed": 117447,
     "status": "ok",
     "timestamp": 1594305260853,
     "user": {
      "displayName": "Edo Septian",
      "photoUrl": "https://lh3.googleusercontent.com/a-/AOh14Gh46t-jaOjIXe6NPakv6dZYr0_ESnDxoThmqkSWGQ=s64",
      "userId": "01836774562051920989"
     },
     "user_tz": -420
    },
    "id": "S8Na2L2n5P0t",
    "outputId": "7febbcb7-7877-4537-8bdb-2ea6f396d76d"
   },
   "outputs": [
    {
     "name": "stderr",
     "output_type": "stream",
     "text": [
      "C:\\Users\\ASUS\\Miniconda3\\envs\\jcopml\\lib\\site-packages\\jcopml\\pipeline\\_pipeline.py:65: UserWarning: Transformer has default standardization, so the scaling argument is neglected\n",
      "  warn(\"Transformer has default standardization, so the scaling argument is neglected\")\n",
      "[Parallel(n_jobs=-1)]: Using backend LokyBackend with 4 concurrent workers.\n"
     ]
    },
    {
     "name": "stdout",
     "output_type": "stream",
     "text": [
      "Fitting 3 folds for each of 14 candidates, totalling 42 fits\n",
      "{'algo__C': 10.0, 'algo__fit_intercept': True}\n",
      "0.8564593301435407 0.8421670117322292 0.8444444444444444\n"
     ]
    },
    {
     "name": "stderr",
     "output_type": "stream",
     "text": [
      "[Parallel(n_jobs=-1)]: Done  42 out of  42 | elapsed:    1.7s finished\n"
     ]
    }
   ],
   "source": [
    "preprocessor = ColumnTransformer([\n",
    "    ('numeric', num_pipe(scaling='standard', transform='yeo-johnson'), [\"age\", \"creatinine_phosphokinase\", \"ejection_fraction\", \"platelets\", \"serum_creatinine\", \"serum_sodium\"]),\n",
    "    ('categoric', cat_pipe(encoder='onehot'), [\"anaemia\", \"diabetes\", \"high_blood_pressure\", \"sex\", \"smoking\"]),\n",
    "])\n",
    "\n",
    "pipeline = Pipeline([\n",
    "    ('prep', preprocessor),\n",
    "    ('algo', LogisticRegression(solver='lbfgs', n_jobs=-1, random_state=42))\n",
    "])\n",
    "\n",
    "model = GridSearchCV(pipeline, gsp.logreg_params, cv=3, n_jobs=-1, verbose=1)\n",
    "model.fit(X_train, y_train)\n",
    "\n",
    "print(model.best_params_)\n",
    "print(model.score(X_train, y_train), model.best_score_, model.score(X_test, y_test))"
   ]
  },
  {
   "cell_type": "code",
   "execution_count": null,
   "metadata": {
    "colab": {},
    "colab_type": "code",
    "id": "zdlXAGAW_AJB"
   },
   "outputs": [],
   "source": []
  }
 ],
 "metadata": {
  "colab": {
   "collapsed_sections": [],
   "name": "Pre-testEdo-Python.ipynb",
   "provenance": []
  },
  "kernelspec": {
   "display_name": "Python [conda env:jcopml]",
   "language": "python",
   "name": "conda-env-jcopml-py"
  },
  "language_info": {
   "codemirror_mode": {
    "name": "ipython",
    "version": 3
   },
   "file_extension": ".py",
   "mimetype": "text/x-python",
   "name": "python",
   "nbconvert_exporter": "python",
   "pygments_lexer": "ipython3",
   "version": "3.7.6"
  }
 },
 "nbformat": 4,
 "nbformat_minor": 1
}
